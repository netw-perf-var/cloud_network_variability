{
 "cells": [
  {
   "cell_type": "code",
   "execution_count": 1,
   "metadata": {},
   "outputs": [],
   "source": [
    "import re\n",
    "import pandas as pd\n",
    "import numpy as np\n",
    "from string import ascii_uppercase\n",
    "import itertools\n",
    "import random\n",
    "import matplotlib.pyplot as plt"
   ]
  },
  {
   "cell_type": "markdown",
   "metadata": {},
   "source": [
    "### Load data and preprocess"
   ]
  },
  {
   "cell_type": "code",
   "execution_count": 2,
   "metadata": {},
   "outputs": [
    {
     "data": {
      "text/html": [
       "<div>\n",
       "<style scoped>\n",
       "    .dataframe tbody tr th:only-of-type {\n",
       "        vertical-align: middle;\n",
       "    }\n",
       "\n",
       "    .dataframe tbody tr th {\n",
       "        vertical-align: top;\n",
       "    }\n",
       "\n",
       "    .dataframe thead th {\n",
       "        text-align: right;\n",
       "    }\n",
       "</style>\n",
       "<table border=\"1\" class=\"dataframe\">\n",
       "  <thead>\n",
       "    <tr style=\"text-align: right;\">\n",
       "      <th></th>\n",
       "      <th>Query</th>\n",
       "      <th>Network</th>\n",
       "      <th>Runtime</th>\n",
       "    </tr>\n",
       "  </thead>\n",
       "  <tbody>\n",
       "    <tr>\n",
       "      <th>641</th>\n",
       "      <td>q3</td>\n",
       "      <td>E</td>\n",
       "      <td>10.748219</td>\n",
       "    </tr>\n",
       "    <tr>\n",
       "      <th>1427</th>\n",
       "      <td>q68</td>\n",
       "      <td>E</td>\n",
       "      <td>23.933288</td>\n",
       "    </tr>\n",
       "    <tr>\n",
       "      <th>728</th>\n",
       "      <td>q3</td>\n",
       "      <td>G</td>\n",
       "      <td>18.279889</td>\n",
       "    </tr>\n",
       "    <tr>\n",
       "      <th>1876</th>\n",
       "      <td>q82</td>\n",
       "      <td>F</td>\n",
       "      <td>19.533224</td>\n",
       "    </tr>\n",
       "    <tr>\n",
       "      <th>1810</th>\n",
       "      <td>q82</td>\n",
       "      <td>E</td>\n",
       "      <td>17.949196</td>\n",
       "    </tr>\n",
       "    <tr>\n",
       "      <th>1464</th>\n",
       "      <td>q68</td>\n",
       "      <td>F</td>\n",
       "      <td>33.518153</td>\n",
       "    </tr>\n",
       "    <tr>\n",
       "      <th>1703</th>\n",
       "      <td>q82</td>\n",
       "      <td>C</td>\n",
       "      <td>20.804225</td>\n",
       "    </tr>\n",
       "    <tr>\n",
       "      <th>1185</th>\n",
       "      <td>q53</td>\n",
       "      <td>H</td>\n",
       "      <td>20.972352</td>\n",
       "    </tr>\n",
       "    <tr>\n",
       "      <th>1234</th>\n",
       "      <td>q68</td>\n",
       "      <td>A</td>\n",
       "      <td>87.234908</td>\n",
       "    </tr>\n",
       "    <tr>\n",
       "      <th>1685</th>\n",
       "      <td>q82</td>\n",
       "      <td>B</td>\n",
       "      <td>24.906276</td>\n",
       "    </tr>\n",
       "  </tbody>\n",
       "</table>\n",
       "</div>"
      ],
      "text/plain": [
       "     Query Network    Runtime\n",
       "641     q3       E  10.748219\n",
       "1427   q68       E  23.933288\n",
       "728     q3       G  18.279889\n",
       "1876   q82       F  19.533224\n",
       "1810   q82       E  17.949196\n",
       "1464   q68       F  33.518153\n",
       "1703   q82       C  20.804225\n",
       "1185   q53       H  20.972352\n",
       "1234   q68       A  87.234908\n",
       "1685   q82       B  24.906276"
      ]
     },
     "metadata": {},
     "output_type": "display_data"
    },
    {
     "data": {
      "text/plain": [
       "q53    400\n",
       "q68    400\n",
       "q82    400\n",
       "q3     400\n",
       "q46    400\n",
       "Name: Query, dtype: int64"
      ]
     },
     "execution_count": 2,
     "metadata": {},
     "output_type": "execute_result"
    }
   ],
   "source": [
    "source_dir = \"../data/fig14b/\"\n",
    "source_file  = \"TPC-DS-50runs-A-H.csv\"\n",
    "\n",
    "class InFile(object):\n",
    "    \"\"\"Process strings as the file is being loaded\"\"\"\n",
    "    \n",
    "    def __init__(self, infile):\n",
    "        self.infile = open(infile)\n",
    "\n",
    "    def __next__(self):\n",
    "        return self.next()\n",
    "\n",
    "    def __iter__(self):\n",
    "        return self\n",
    "\n",
    "    def read(self, *args, **kwargs):\n",
    "        return self.__next__()\n",
    "\n",
    "    def next(self):\n",
    "        try:\n",
    "            line = self.infile.readline()\n",
    "            \n",
    "            line = re.sub(r'  +', r',', line) \n",
    "            line = re.sub(r' ', r',', line) \n",
    "\n",
    "            return line\n",
    "        except:\n",
    "            self.infile.close()\n",
    "            raise StopIteration\n",
    "\n",
    "x = pd.read_csv(InFile(source_dir + source_file), header=0)\n",
    "x.columns = [\"query_raw\", \"Network\", \"Runtime\"]\n",
    "\n",
    "x[\"Query\"] = x[\"query_raw\"].apply(lambda xx: xx.replace(\"-v1.4\", \"\")) \n",
    "    \n",
    "tpc = x[[\"Query\", \"Network\", \"Runtime\"]]\n",
    "\n",
    "display(tpc.sample(10))\n",
    "tpc[\"Query\"].value_counts()"
   ]
  },
  {
   "cell_type": "markdown",
   "metadata": {},
   "source": [
    "### Confidence Intervals: Estimation and Plotting "
   ]
  },
  {
   "cell_type": "code",
   "execution_count": 3,
   "metadata": {},
   "outputs": [
    {
     "name": "stdout",
     "output_type": "stream",
     "text": [
      "(63.137505903000005, 57.465231588, 76.76931700899999)\n"
     ]
    }
   ],
   "source": [
    "def ci_p(s, p):\n",
    "    \"\"\" \n",
    "    For values in the given array s and p in [0, 1], this fuction returns \n",
    "    empirical p-quantile value and its nonparametric 95% confidence interval.\n",
    "    \n",
    "    Refer to book by Boudec: https://infoscience.epfl.ch/record/146812/files/perfPublisherVersion_1.pdf,\n",
    "    (Page 36 describes how nonparametric confidence intervals can be obtained for p-quantiles)\n",
    "    \"\"\"\n",
    "    n = len(s)\n",
    "    q = np.quantile(s, p)\n",
    "    eta = 1.96 # for gamma = 0.95\n",
    "    \n",
    "    lo_rank = max(int(np.floor(n * p - eta * np.sqrt(n * p * (1-p)))), 0)\n",
    "    hi_rank = min(int(np.ceil(n * p + eta * np.sqrt(n * p * (1-p))) + 1), n-1)\n",
    "    \n",
    "    s_sorted = sorted(s.tolist())\n",
    "    q_ci_lo = s_sorted[lo_rank]\n",
    "    q_ci_hi = s_sorted[hi_rank]\n",
    "    \n",
    "    return q, q_ci_lo, q_ci_hi\n",
    "\n",
    "# Test for median\n",
    "print ci_p(tpc[\"Runtime\"][:20], 0.5)"
   ]
  },
  {
   "cell_type": "markdown",
   "metadata": {},
   "source": [
    "### More detailed analysis of 3-, 5-, and 10-run sets"
   ]
  },
  {
   "cell_type": "markdown",
   "metadata": {},
   "source": [
    "#### 0.9 quantiles for TPC-DS"
   ]
  },
  {
   "cell_type": "code",
   "execution_count": 4,
   "metadata": {},
   "outputs": [
    {
     "data": {
      "image/png": "[encoded data removed]",
      "text/plain": [
       "<Figure size 468x144 with 1 Axes>"
      ]
     },
     "metadata": {
      "needs_background": "light"
     },
     "output_type": "display_data"
    }
   ],
   "source": [
    "# Plotting is similar to the code above\n",
    "\n",
    "p = 0.9\n",
    "\n",
    "q = \"q68\"\n",
    "q_df = tpc[tpc[\"Query\"] == \"q68\"]\n",
    "\n",
    "    \n",
    "fig, ax = plt.subplots(1, 1, figsize=(6.5, 2))\n",
    "\n",
    "n_list = []\n",
    "for n_idx, (n, grp) in enumerate(q_df.groupby(\"Network\")):\n",
    "    df = pd.DataFrame()\n",
    "    n_list.append(n)\n",
    "\n",
    "    for r in [10, len(grp)]:\n",
    "        med, ci_lo, ci_hi = ci_p(np.array(grp[\"Runtime\"].tolist()[:r]), p)\n",
    "        df = pd.concat([df, pd.DataFrame([{\"Reps\": r, \"Med\": med, \"CI Lo\": ci_lo, \"CI Hi\": ci_hi}])])\n",
    "\n",
    "\n",
    "    # Vis results for 10\n",
    "    ax.errorbar(n_idx * 4 + 1, df[\"Med\"].tolist()[0], yerr=[np.array([df[\"Med\"].tolist()[0]-df[\"CI Lo\"].tolist()[0]]), \n",
    "                                                 np.array([df[\"CI Hi\"].tolist()[0]-df[\"Med\"].tolist()[0]])], \\\n",
    "                     c=\"orange\", fmt='', lw = 10, alpha=0.35)\n",
    "\n",
    "    if df[\"CI Lo\"].tolist()[-1] <= df[\"Med\"].tolist()[0] <= df[\"CI Hi\"].tolist()[-1]:\n",
    "        ax.plot(n_idx * 4 + 1-0.075, df[\"Med\"].tolist()[0], \"green\", alpha=1.0, marker=ur'$\\u2713$', markersize=10)\n",
    "    else:\n",
    "        ax.plot(n_idx * 4 + 1-0.075, df[\"Med\"].tolist()[0], \"red\", alpha=1.0, marker=\"$\\\\times$\", markersize=10)\n",
    "\n",
    "    plt.annotate(\"10\", xy=(n_idx * 4 + 1 - 0.45, df[\"CI Hi\"].tolist()[0] + 10), fontsize=8)\n",
    "        \n",
    "    # Vis results for 5\n",
    "    ax.errorbar(n_idx * 4 + 2.0, df[\"Med\"].tolist()[-1], yerr=[np.array([df[\"Med\"].tolist()[-1]-df[\"CI Lo\"].tolist()[-1]]), \n",
    "                                                 np.array([df[\"CI Hi\"].tolist()[-1]-df[\"Med\"].tolist()[-1]])], \\\n",
    "                     c=\"orange\", fmt='', lw = 10, alpha=0.65, zorder=1)\n",
    "    ax.scatter(n_idx * 4 + 2.0, df[\"Med\"].tolist()[-1], c='black', marker=\"d\", lw =2.0, zorder=2)\n",
    "\n",
    "    plt.annotate(\"50\", xy=(n_idx * 4 + 2.0 - 0.4, df[\"CI Hi\"].tolist()[-1] + 5), fontsize=8)\n",
    "\n",
    "    # Vis results for 3\n",
    "    if df[\"CI Lo\"].tolist()[-1] <= np.median(grp[\"Runtime\"].tolist()[:3]) <= df[\"CI Hi\"].tolist()[-1]:\n",
    "        ax.plot(n_idx * 4 -0.075, np.median(grp[\"Runtime\"].tolist()[:3]), \"green\", alpha=1.0, marker=ur'$\\u2713$', markersize=10)\n",
    "    else:\n",
    "        ax.plot(n_idx * 4 -0.075, np.median(grp[\"Runtime\"].tolist()[:3]), \"red\", alpha=1.0, marker=\"$\\\\times$\", markersize=10)\n",
    "\n",
    "    plt.annotate(\"3\", xy=(n_idx * 4 - 0.2, np.median(grp[\"Runtime\"].tolist()[:3]) + 15), fontsize=8)\n",
    "\n",
    "# Additional styling\n",
    "ax.set_xticks(np.array(range(n_idx + 1)) * 4 + 1.0)\n",
    "ax.set_xticklabels(n_list)\n",
    "ax.set_ylim([ax.get_ylim()[0], ax.get_ylim()[1] * 1.1])\n",
    "ax.set_ylabel(\"Time [s]\")\n",
    "ax.set_xlabel(\"Cloud\");"
   ]
  },
  {
   "cell_type": "code",
   "execution_count": null,
   "metadata": {},
   "outputs": [],
   "source": []
  }
 ],
 "metadata": {
  "kernelspec": {
   "display_name": "Python 2",
   "language": "python",
   "name": "python2"
  },
  "language_info": {
   "codemirror_mode": {
    "name": "ipython",
    "version": 2
   },
   "file_extension": ".py",
   "mimetype": "text/x-python",
   "name": "python",
   "nbconvert_exporter": "python",
   "pygments_lexer": "ipython2",
   "version": "2.7.16"
  },
  "varInspector": {
   "cols": {
    "lenName": 16,
    "lenType": 16,
    "lenVar": 40
   },
   "kernels_config": {
    "python": {
     "delete_cmd_postfix": "",
     "delete_cmd_prefix": "del ",
     "library": "var_list.py",
     "varRefreshCmd": "print(var_dic_list())"
    },
    "r": {
     "delete_cmd_postfix": ") ",
     "delete_cmd_prefix": "rm(",
     "library": "var_list.r",
     "varRefreshCmd": "cat(var_dic_list()) "
    }
   },
   "types_to_exclude": [
    "module",
    "function",
    "builtin_function_or_method",
    "instance",
    "_Feature"
   ],
   "window_display": false
  }
 },
 "nbformat": 4,
 "nbformat_minor": 2
}
