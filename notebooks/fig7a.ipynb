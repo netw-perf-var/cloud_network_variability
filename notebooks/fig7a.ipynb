{
 "cells": [
  {
   "cell_type": "code",
   "execution_count": 1,
   "metadata": {},
   "outputs": [],
   "source": [
    "import json\n",
    "from os import listdir, makedirs\n",
    "from os.path import basename, dirname, exists, isfile, join, realpath\n",
    "import numpy as np\n",
    "import matplotlib.pyplot as plt\n",
    "import sys"
   ]
  },
  {
   "cell_type": "code",
   "execution_count": 2,
   "metadata": {},
   "outputs": [
    {
     "name": "stdout",
     "output_type": "stream",
     "text": [
      "============================\n",
      "{'std': 0.031853764697804106, '75th': 0.0, '25th': 0.0, '50th': 0.0, 'max': 7.48, '99th': 0.011, 'CoV': 48.51197409191375, 'min': 0.0, '1st': 0.0, 'npoints': 65903, 'avg': 0.000656616542494272}\n",
      "================================\n",
      "============================\n",
      "{'std': 28.8340459629794, '75th': 138.59575, '25th': 101.58075, '50th': 118.676, 'max': 263.294, '99th': 213.28067000000001, 'CoV': 0.23742781809974187, 'min': 48.333, '1st': 67.50126, 'npoints': 22320, 'avg': 121.44341886200718}\n",
      "================================\n",
      "============================\n",
      "{'std': 0.043680235105922983, '75th': 0.0, '25th': 0.0, '50th': 0.0, 'max': 3.629, '99th': 0.0, 'CoV': 72.05503091862717, 'min': 0.0, '1st': 0.0, 'npoints': 23040, 'avg': 0.0006062065972222222}\n",
      "================================\n"
     ]
    },
    {
     "data": {
      "image/png": "[encoded data removed]",
      "text/plain": [
       "<Figure size 216x144 with 1 Axes>"
      ]
     },
     "metadata": {
      "needs_background": "light"
     },
     "output_type": "display_data"
    }
   ],
   "source": [
    "\n",
    "\n",
    "bw_values = dict()\n",
    "retransmits = dict()\n",
    "\n",
    "filedir = realpath(\"./\")\n",
    "inputdir = realpath(join(filedir, '../data/'))\n",
    "\n",
    "def get_statistics(values, message):\n",
    "\tprint(\"============================\")\n",
    "\tresult = dict()\n",
    "\tresult[\"avg\"] = np.mean(values)\n",
    "\tresult[\"std\"] = np.std(values)\n",
    "\tresult[\"npoints\"] = len(values)\n",
    "\tresult[\"99th\"] = np.percentile(values, 99)\n",
    "\tresult[\"75th\"] = np.percentile(values, 75)\n",
    "\tresult[\"50th\"] = np.percentile(values, 50)\n",
    "\tresult[\"25th\"] = np.percentile(values, 25)\n",
    "\tresult[\"1st\"] = np.percentile(values, 1)\n",
    "\tresult[\"CoV\"] = result[\"std\"] / result[\"avg\"]\n",
    "\tresult[\"min\"] = np.min(values)\n",
    "\tresult[\"max\"] = np.max(values)\n",
    "\tprint(result)\n",
    "\tprint(\"================================\")\n",
    "\treturn result\n",
    "\n",
    "def get_bw_per_machine(machine_file, bw_values, retr):\n",
    "\tcrnt_file = open(machine_file)\n",
    "\tdata = json.load(crnt_file)\n",
    "\n",
    "\tno_intervals = len(data[\"intervals\"])\n",
    "\tbandwidth = 0\n",
    "\tfor i in range(0, no_intervals):\n",
    "\t\tno_bytes = data[\"intervals\"][i][\"sum\"][\"bits_per_second\"]\n",
    "\t\t#bandwidth = (no_bytes * 8) / (10 * 1000 * 1000)\n",
    "\t\tbandwidth = no_bytes / (1000 * 1000)\n",
    "\t\tbw_values.append(bandwidth)\n",
    "\t\tretr.append(data[\"intervals\"][i][\"sum\"][\"retransmits\"] / 1000.0)\n",
    "\n",
    "fig, ax = plt.subplots(nrows = 1, ncols = 1, figsize = (3, 2))\n",
    "hindex = 0\n",
    "\n",
    "homedirs = [join(inputdir, 'fig6', \"full-speed\"), join(inputdir, 'fig5', 'full-speed'), join(inputdir, 'fig4', \"full-speed\")]\n",
    "stats = dict()\n",
    "\n",
    "for homedir in homedirs:\n",
    "\tbw_values[homedir] = []\n",
    "\tretransmits[homedir] = []\n",
    "\tmachine_files = [join(homedir, f) for f in listdir(homedir) if isfile(join(homedir, f)) and f.endswith(\".json\")]\n",
    "\n",
    "\tfor machine_file in machine_files:\n",
    "\t\tget_bw_per_machine(machine_file, bw_values[homedir], retransmits[homedir])\n",
    "\n",
    "\tstats[homedir] = get_statistics(retransmits[homedir], \"bandwidth -> \" + homedir)\n",
    "\n",
    "\thindex += 1\n",
    "\n",
    "ax.boxplot([retransmits[homedirs[0]], retransmits[homedirs[1]], retransmits[homedirs[2]]], positions=[1, 2, 3], whis=[1, 99], showfliers=False, vert=False)\n",
    "ax.set_xlabel(\"Thousand\\nRetransmissions\")\n",
    "ax.set_yticklabels([\"Amazon\", \"Google\", \"HPCCloud\"])\n",
    "ax.set_xticks(np.arange(0, 210, 100))\n",
    "plt.tight_layout()\n",
    "\n",
    "plt.show()\n"
   ]
  },
  {
   "cell_type": "code",
   "execution_count": null,
   "metadata": {},
   "outputs": [],
   "source": []
  }
 ],
 "metadata": {
  "kernelspec": {
   "display_name": "Python 2",
   "language": "python",
   "name": "python2"
  },
  "language_info": {
   "codemirror_mode": {
    "name": "ipython",
    "version": 2
   },
   "file_extension": ".py",
   "mimetype": "text/x-python",
   "name": "python",
   "nbconvert_exporter": "python",
   "pygments_lexer": "ipython2",
   "version": "2.7.16"
  }
 },
 "nbformat": 4,
 "nbformat_minor": 2
}
