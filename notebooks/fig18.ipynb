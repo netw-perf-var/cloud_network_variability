{
 "cells": [
  {
   "cell_type": "code",
   "execution_count": 3,
   "metadata": {},
   "outputs": [],
   "source": [
    "from os import makedirs\n",
    "from os.path import basename, dirname, exists, join, realpath\n",
    "import numpy as np\n",
    "import matplotlib.pyplot as plt\n",
    "import pandas as pd\n",
    "import glob\n",
    "import matplotlib\n",
    "import sys"
   ]
  },
  {
   "cell_type": "code",
   "execution_count": 4,
   "metadata": {},
   "outputs": [
    {
     "name": "stderr",
     "output_type": "stream",
     "text": [
      "/anaconda2/lib/python2.7/site-packages/matplotlib/font_manager.py:1331: UserWarning: findfont: Font family [u'normal'] not found. Falling back to DejaVu Sans\n",
      "  (prop.get_family(), self.defaultFamily[fontext]))\n"
     ]
    },
    {
     "data": {
      "image/png": "[encoded data removed]",
      "text/plain": [
       "<Figure size 432x180 with 4 Axes>"
      ]
     },
     "metadata": {
      "needs_background": "light"
     },
     "output_type": "display_data"
    }
   ],
   "source": [
    "\n",
    "filedir = realpath(\"./\")\n",
    "inputdir = realpath(join(filedir, '../data/fig18/'))\n",
    "\n",
    "def load_data(filename):\n",
    "\tdf = pd.read_csv(filename, sep = \",\", names=[\"data_transferred\", \"budget\", \"crnt_bw\"])\n",
    "\tdf = df.replace(10500, 10000)\n",
    "\tdf = df.replace(1400, 1000)\n",
    "\treturn df\n",
    "\n",
    "def draw_graph(filename, ax, title, show_legend, show_left_cap, show_right_cap, show_bottom_cap):\n",
    "\tdata = load_data(filename)\n",
    "\tlimit = 3200\n",
    "\tdata_transferred = data[\"data_transferred\"][:limit]\n",
    "\tbudget = (data[\"budget\"][:limit])\n",
    "\tcrnt_bw = data[\"crnt_bw\"][:limit] / 1000\n",
    "\tax2 = ax.twinx()\n",
    "\tl2 = ax.plot(np.arange(0, len(crnt_bw)), crnt_bw, color=\"red\", label=\"link capacity\", alpha=0.6, lw=1.5)\n",
    "\tl3 = ax2.plot(np.arange(0, len(budget)), budget, color=\"black\", label=\"budget\", alpha=0.8, lw=2)\n",
    "\t\n",
    "\tif show_legend == True:\n",
    "\t\tlns = l2+l3\n",
    "\t\tlabs = [l.get_label() for l in lns]\n",
    "\t\tax.legend(lns, labs, loc=\"center left\", bbox_to_anchor=(0.05, 0.65), ncol=1, handlelength=0.6, handletextpad=0.3)\n",
    "\n",
    "\tif show_left_cap == True:\n",
    "\t\tax.set_ylabel(\"Bandwidth [Gbps]\")\n",
    "\t\tax.set_yticks(np.arange(0, 11, 2))\n",
    "\telse:\n",
    "\t\tax.set_yticks([])\n",
    "\t\t\n",
    "\tif show_bottom_cap == True:\n",
    "\t\tax.set_xlabel(\"Time [s]\")\n",
    "\t\tax.set_xticks(np.arange(0, limit, 1000))\n",
    "\telse:\n",
    "\t\tax.set_xticks([])\n",
    "\t\t\n",
    "\tax.set_ylim (0, 11)\n",
    "\n",
    "\tif show_right_cap == True:\n",
    "\t\tax2.set_ylabel(\"Budget [Gbit]\")\n",
    "\t\tax2.set_yticks(np.arange(0, 5500, 1000))\n",
    "\telse:\n",
    "\t\tax2.set_yticks([])\n",
    "\t\t\t\n",
    "\tax.set_xlim(0, limit)\t\t\n",
    "\tax2.set_ylim(0, 5500)\n",
    "\tax.set_title(title)\n",
    "\n",
    "regular_node = glob.glob(join(inputdir, \"node033-2019-03-09-2219*\"))\n",
    "straggler = glob.glob(join(inputdir, \"node030-2019-03-09-2219*\"))\n",
    "\n",
    "filenames = [regular_node, straggler]\n",
    "\n",
    "#print(filenames)\n",
    "\n",
    "font = {'size': 11}\n",
    "\n",
    "matplotlib.rc('font', **font)\n",
    "\n",
    "fig, ax = plt.subplots(nrows = 1, ncols = 2, figsize = (6, 2.5))\n",
    "\n",
    "draw_graph(regular_node[0], ax[0], \"Regular Node\", True, True, False, True)\n",
    "draw_graph(straggler[0], ax[1], \"Straggler\", False, False, True, True)\n",
    "\n",
    "font = {'family' : 'normal',\n",
    "        'weight' : 'bold',\n",
    "        'size'   : 22}\n",
    "\n",
    "matplotlib.rc('font', **font)\n",
    "\n",
    "plt.tight_layout()\n",
    "\n",
    "plt.show()"
   ]
  },
  {
   "cell_type": "code",
   "execution_count": null,
   "metadata": {},
   "outputs": [],
   "source": []
  },
  {
   "cell_type": "code",
   "execution_count": null,
   "metadata": {},
   "outputs": [],
   "source": []
  }
 ],
 "metadata": {
  "kernelspec": {
   "display_name": "Python 2",
   "language": "python",
   "name": "python2"
  },
  "language_info": {
   "codemirror_mode": {
    "name": "ipython",
    "version": 2
   },
   "file_extension": ".py",
   "mimetype": "text/x-python",
   "name": "python",
   "nbconvert_exporter": "python",
   "pygments_lexer": "ipython2",
   "version": "2.7.16"
  }
 },
 "nbformat": 4,
 "nbformat_minor": 2
}
