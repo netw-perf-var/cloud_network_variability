{
 "cells": [
  {
   "cell_type": "code",
   "execution_count": 6,
   "metadata": {},
   "outputs": [],
   "source": [
    "import json\n",
    "from os import listdir, makedirs\n",
    "from os.path import basename, dirname, exists, isfile, join, realpath\n",
    "import numpy as np\n",
    "import matplotlib.pyplot as plt\n",
    "import sys\n",
    "\n"
   ]
  },
  {
   "cell_type": "code",
   "execution_count": 11,
   "metadata": {},
   "outputs": [
    {
     "data": {
      "image/png": "[encoded data removed]",
      "text/plain": [
       "<Figure size 288x216 with 1 Axes>"
      ]
     },
     "metadata": {
      "needs_background": "light"
     },
     "output_type": "display_data"
    },
    {
     "data": {
      "image/png": "[encoded data removed]",
      "text/plain": [
       "<Figure size 288x216 with 1 Axes>"
      ]
     },
     "metadata": {
      "needs_background": "light"
     },
     "output_type": "display_data"
    }
   ],
   "source": [
    "\n",
    "bw_values = dict()\n",
    "retransmits = dict()\n",
    "\n",
    "figure_to_csp = ['fig5', 'fig6']\n",
    "filedir = realpath(\"./\")\n",
    "inputdir = realpath(join(filedir, '../data/'))\n",
    "\n",
    "def get_statistics(values, message):\n",
    "\tprint(\"==============    \" + message + \"   ============\")\n",
    "\tresult = dict()\n",
    "\tresult[\"avg\"] = np.mean(values)\n",
    "\tresult[\"std\"] = np.std(values)\n",
    "\tresult[\"npoints\"] = len(values)\n",
    "\tresult[\"99th\"] = np.percentile(values, 99)\n",
    "\tresult[\"75th\"] = np.percentile(values, 75)\n",
    "\tresult[\"50th\"] = np.percentile(values, 50)\n",
    "\tresult[\"25th\"] = np.percentile(values, 25)\n",
    "\tresult[\"1st\"] = np.percentile(values, 1)\n",
    "\tresult[\"CoV\"] = result[\"std\"] / result[\"avg\"]\n",
    "\tresult[\"min\"] = np.min(values)\n",
    "\tresult[\"max\"] = np.max(values)\n",
    "\tprint(result)\n",
    "\tprint(\"================================\")\n",
    "\treturn result\n",
    "\n",
    "def get_bw_per_machine(machine_file, bw_values, retr):\n",
    "\tcrnt_file = open(machine_file)\n",
    "\tdata = json.load(crnt_file)\n",
    "\n",
    "\tno_intervals = len(data[\"intervals\"])\n",
    "\tbandwidth = 0\n",
    "\tfor i in range(0, no_intervals):\n",
    "\t\tno_bytes = data[\"intervals\"][i][\"sum\"][\"bytes\"]\n",
    "\t\t#bandwidth = (no_bytes * 8) / (10 * 1000 * 1000)\n",
    "\t\tif len(bw_values) > 0:\n",
    "\t\t\tbandwidth = no_bytes / (1024 * 1024 * 1024.0 * 1024) + bw_values[len(bw_values) - 1]\n",
    "\t\telse:\n",
    "\t\t\tbandwdith = no_bytes / (1024 * 1024 * 1024.0 * 1024)\n",
    "\t\tbw_values.append(bandwidth)\n",
    "\t\tretr.append(data[\"intervals\"][i][\"sum\"][\"retransmits\"])\n",
    "\n",
    "def check_change(values):\n",
    "\tfor i in range(2, len(values) - 1):\n",
    "\t\tif abs(values[i] - values[i-1]) > 1.0 * values[i]:\n",
    "\t\t\treturn i\n",
    "\treturn len(values)\n",
    "\n",
    "for crnt_fig in figure_to_csp:\n",
    "\tfig, ax = plt.subplots(nrows = 1, ncols = 1, figsize = (4, 3))\n",
    "\thindex = 0\n",
    "\tdirnames = [\"full-speed\", \"10-30\", \"5-30\"]\n",
    "\tstats = dict()\n",
    "\n",
    "\tfor d in dirnames:\n",
    "\t\tbw_values[d] = []\n",
    "\t\tretransmits[d] = []\n",
    "\t\tdirname = join(inputdir, crnt_fig, d)\n",
    "\t\tmachine_files = sorted([join(dirname, f) for f in listdir(dirname) if isfile(join(dirname, f)) and f.endswith(\".json\")])\n",
    "\t\tpartnames = [\"cmeans\", \"cmedians\", \"cmaxes\", \"cmins\", \"cbars\"]\n",
    "\n",
    "\t\tfor machine_file in machine_files:\n",
    "\t\t\tget_bw_per_machine(machine_file, bw_values[d], retransmits[d])\n",
    "\n",
    "\tax.plot(np.arange(0, len(bw_values[\"full-speed\"])), bw_values[\"full-speed\"], color='#1f77b4', label = \"full-speed\")\n",
    "\n",
    "\tarr = []\n",
    "\tx = 0\n",
    "\tfor i in range(0, len(bw_values[\"10-30\"])):\n",
    "\t\tarr.append(x)\n",
    "\t\tx += 4\n",
    "\tax.plot(arr, bw_values[\"10-30\"], color='#ff7f0e', label = \"10-30\")\n",
    "\n",
    "\tarr = []\n",
    "\tx = 0\n",
    "\tfor i in range(0, len(bw_values[\"5-30\"])):\n",
    "\t\tarr.append(x)\n",
    "\t\tx += 3.5\n",
    "\n",
    "\tax.plot(arr, bw_values[\"5-30\"], color='#2ca02c', label = \"5-30\")\n",
    "\tax.set_xticks(np.arange(0, 62000, 20000))\n",
    "\tax.set_xlim(0, 62100)\n",
    "\tax.set_xlabel(\"Time [10s]\")\n",
    "\tax.set_ylabel(\"Traffic [TB]\")\n",
    "\tax.set_ylim(0, 110)\n",
    "\tax.legend()\n",
    "\tplt.tight_layout()\n",
    "\n",
    "\tplt.show()\n",
    "\n",
    "\tbw_values = dict()\n",
    "\tretransmits = dict()\n"
   ]
  },
  {
   "cell_type": "code",
   "execution_count": null,
   "metadata": {},
   "outputs": [],
   "source": []
  }
 ],
 "metadata": {
  "kernelspec": {
   "display_name": "Python 2",
   "language": "python",
   "name": "python2"
  },
  "language_info": {
   "codemirror_mode": {
    "name": "ipython",
    "version": 2
   },
   "file_extension": ".py",
   "mimetype": "text/x-python",
   "name": "python",
   "nbconvert_exporter": "python",
   "pygments_lexer": "ipython2",
   "version": "2.7.16"
  }
 },
 "nbformat": 4,
 "nbformat_minor": 2
}
