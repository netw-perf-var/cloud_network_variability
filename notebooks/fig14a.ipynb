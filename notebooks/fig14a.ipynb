{
 "cells": [
  {
   "cell_type": "code",
   "execution_count": 1,
   "metadata": {},
   "outputs": [],
   "source": [
    "import re\n",
    "import pandas as pd\n",
    "import numpy as np\n",
    "from string import ascii_uppercase\n",
    "import itertools\n",
    "import random\n",
    "import matplotlib.pyplot as plt"
   ]
  },
  {
   "cell_type": "markdown",
   "metadata": {},
   "source": [
    "### Load data and preprocess"
   ]
  },
  {
   "cell_type": "code",
   "execution_count": 2,
   "metadata": {},
   "outputs": [
    {
     "name": "stdout",
     "output_type": "stream",
     "text": [
      "Number of records: 400\n"
     ]
    },
    {
     "data": {
      "text/html": [
       "<div>\n",
       "<style scoped>\n",
       "    .dataframe tbody tr th:only-of-type {\n",
       "        vertical-align: middle;\n",
       "    }\n",
       "\n",
       "    .dataframe tbody tr th {\n",
       "        vertical-align: top;\n",
       "    }\n",
       "\n",
       "    .dataframe thead th {\n",
       "        text-align: right;\n",
       "    }\n",
       "</style>\n",
       "<table border=\"1\" class=\"dataframe\">\n",
       "  <thead>\n",
       "    <tr style=\"text-align: right;\">\n",
       "      <th></th>\n",
       "      <th>Use-Case</th>\n",
       "      <th>Runtime</th>\n",
       "      <th>timestamp</th>\n",
       "      <th>Network</th>\n",
       "    </tr>\n",
       "  </thead>\n",
       "  <tbody>\n",
       "    <tr>\n",
       "      <th>382</th>\n",
       "      <td>ScalaSparkKmeans</td>\n",
       "      <td>198.312</td>\n",
       "      <td>2019-03-11 01:25:52</td>\n",
       "      <td>H</td>\n",
       "    </tr>\n",
       "    <tr>\n",
       "      <th>113</th>\n",
       "      <td>ScalaSparkKmeans</td>\n",
       "      <td>133.843</td>\n",
       "      <td>2019-03-10 03:03:19</td>\n",
       "      <td>C</td>\n",
       "    </tr>\n",
       "    <tr>\n",
       "      <th>10</th>\n",
       "      <td>ScalaSparkKmeans</td>\n",
       "      <td>250.357</td>\n",
       "      <td>2019-03-09 18:12:57</td>\n",
       "      <td>A</td>\n",
       "    </tr>\n",
       "    <tr>\n",
       "      <th>54</th>\n",
       "      <td>ScalaSparkKmeans</td>\n",
       "      <td>163.526</td>\n",
       "      <td>2019-03-09 23:05:19</td>\n",
       "      <td>B</td>\n",
       "    </tr>\n",
       "    <tr>\n",
       "      <th>137</th>\n",
       "      <td>ScalaSparkKmeans</td>\n",
       "      <td>127.465</td>\n",
       "      <td>2019-03-10 04:30:25</td>\n",
       "      <td>C</td>\n",
       "    </tr>\n",
       "    <tr>\n",
       "      <th>168</th>\n",
       "      <td>ScalaSparkKmeans</td>\n",
       "      <td>512.969</td>\n",
       "      <td>2019-03-10 08:09:27</td>\n",
       "      <td>D</td>\n",
       "    </tr>\n",
       "    <tr>\n",
       "      <th>314</th>\n",
       "      <td>ScalaSparkKmeans</td>\n",
       "      <td>160.794</td>\n",
       "      <td>2019-03-10 20:12:32</td>\n",
       "      <td>G</td>\n",
       "    </tr>\n",
       "    <tr>\n",
       "      <th>216</th>\n",
       "      <td>ScalaSparkKmeans</td>\n",
       "      <td>136.608</td>\n",
       "      <td>2019-03-10 13:49:39</td>\n",
       "      <td>E</td>\n",
       "    </tr>\n",
       "    <tr>\n",
       "      <th>393</th>\n",
       "      <td>ScalaSparkKmeans</td>\n",
       "      <td>145.387</td>\n",
       "      <td>2019-03-11 02:17:24</td>\n",
       "      <td>H</td>\n",
       "    </tr>\n",
       "    <tr>\n",
       "      <th>202</th>\n",
       "      <td>ScalaSparkKmeans</td>\n",
       "      <td>126.183</td>\n",
       "      <td>2019-03-10 12:58:22</td>\n",
       "      <td>E</td>\n",
       "    </tr>\n",
       "  </tbody>\n",
       "</table>\n",
       "</div>"
      ],
      "text/plain": [
       "             Use-Case  Runtime           timestamp Network\n",
       "382  ScalaSparkKmeans  198.312 2019-03-11 01:25:52       H\n",
       "113  ScalaSparkKmeans  133.843 2019-03-10 03:03:19       C\n",
       "10   ScalaSparkKmeans  250.357 2019-03-09 18:12:57       A\n",
       "54   ScalaSparkKmeans  163.526 2019-03-09 23:05:19       B\n",
       "137  ScalaSparkKmeans  127.465 2019-03-10 04:30:25       C\n",
       "168  ScalaSparkKmeans  512.969 2019-03-10 08:09:27       D\n",
       "314  ScalaSparkKmeans  160.794 2019-03-10 20:12:32       G\n",
       "216  ScalaSparkKmeans  136.608 2019-03-10 13:49:39       E\n",
       "393  ScalaSparkKmeans  145.387 2019-03-11 02:17:24       H\n",
       "202  ScalaSparkKmeans  126.183 2019-03-10 12:58:22       E"
      ]
     },
     "execution_count": 2,
     "metadata": {},
     "output_type": "execute_result"
    }
   ],
   "source": [
    "source_dir = \"../data/fig14a/\"\n",
    "source_file  = \"kmeans_50_rep_50sec_variation.csv\"\n",
    "\n",
    "class InFile(object):\n",
    "    \"\"\"Process strings as the file is being loaded\"\"\"\n",
    "    \n",
    "    def __init__(self, infile):\n",
    "        self.infile = open(infile)\n",
    "\n",
    "    def __next__(self):\n",
    "        return self.next()\n",
    "\n",
    "    def __iter__(self):\n",
    "        return self\n",
    "\n",
    "    def read(self, *args, **kwargs):\n",
    "        return self.__next__()\n",
    "\n",
    "    def next(self):\n",
    "        try:\n",
    "            line = self.infile.readline()\n",
    "            \n",
    "            line = re.sub(r'  +', r',', line) \n",
    "            line = re.sub(r' ', r',', line) \n",
    "\n",
    "            return line\n",
    "        except:\n",
    "            self.infile.close()\n",
    "            raise StopIteration\n",
    "\n",
    "x = pd.read_csv(InFile(source_dir + source_file), header=0)\n",
    "\n",
    "# Name specific columns\n",
    "x.columns = range(8)\n",
    "x.rename({0: \"Use-Case\", 4: \"Runtime\"}, axis=1, inplace=True)\n",
    "\n",
    "x[\"timestamp\"] = pd.to_datetime(x[1] + \" \" + x[2])\n",
    "\n",
    "# The file has 50 records fo network A, followed by 50 records for network B, etc.\n",
    "x[\"Network\"] = list(itertools.chain(*[[el] * 50 for el in list(ascii_uppercase)]))[:len(x)]\n",
    "\n",
    "hibench50 = x[[\"Use-Case\", \"Runtime\", \"timestamp\", \"Network\"]]\n",
    "print \"Number of records:\", len(hibench50)\n",
    "\n",
    "hibench50.sample(10)"
   ]
  },
  {
   "cell_type": "markdown",
   "metadata": {},
   "source": [
    "### Confidence Intervals: Estimation and Plotting "
   ]
  },
  {
   "cell_type": "code",
   "execution_count": 3,
   "metadata": {},
   "outputs": [
    {
     "name": "stdout",
     "output_type": "stream",
     "text": [
      "(297.9765, 282.392, 367.811)\n"
     ]
    }
   ],
   "source": [
    "def ci_p(s, p):\n",
    "    \"\"\" \n",
    "    For values in the given array s and p in [0, 1], this fuction returns \n",
    "    empirical p-quantile value and its nonparametric 95% confidence interval.\n",
    "    \n",
    "    Refer to book by Boudec: https://infoscience.epfl.ch/record/146812/files/perfPublisherVersion_1.pdf,\n",
    "    (Page 36 describes how nonparametric confidence intervals can be obtained for p-quantiles)\n",
    "    \"\"\"\n",
    "    n = len(s)\n",
    "    q = np.quantile(s, p)\n",
    "    eta = 1.96 # for gamma = 0.95\n",
    "    \n",
    "    lo_rank = max(int(np.floor(n * p - eta * np.sqrt(n * p * (1-p)))), 0)\n",
    "    hi_rank = min(int(np.ceil(n * p + eta * np.sqrt(n * p * (1-p))) + 1), n-1)\n",
    "    \n",
    "    s_sorted = sorted(s.tolist())\n",
    "    q_ci_lo = s_sorted[lo_rank]\n",
    "    q_ci_hi = s_sorted[hi_rank]\n",
    "    \n",
    "    return q, q_ci_lo, q_ci_hi\n",
    "\n",
    "# Test for median\n",
    "print ci_p(hibench50[\"Runtime\"][:20], 0.5)"
   ]
  },
  {
   "cell_type": "markdown",
   "metadata": {},
   "source": [
    "#### Medians for HiBench"
   ]
  },
  {
   "cell_type": "code",
   "execution_count": 4,
   "metadata": {},
   "outputs": [
    {
     "data": {
      "image/png": "[encoded data removed]",
      "text/plain": [
       "<Figure size 468x144 with 1 Axes>"
      ]
     },
     "metadata": {
      "needs_background": "light"
     },
     "output_type": "display_data"
    }
   ],
   "source": [
    "fig, ax = plt.subplots(1, 1, figsize=(6.5, 2))\n",
    "\n",
    "n_list = []\n",
    "for n_idx, (n, grp) in enumerate(hibench50.groupby(\"Network\")):\n",
    "    df = pd.DataFrame()\n",
    "    n_list.append(n)\n",
    "    \n",
    "    for r in [10, len(grp)]:\n",
    "        \n",
    "        med, ci_lo, ci_hi = ci_p(np.array(grp[\"Runtime\"].tolist()[:r]), 0.5)        \n",
    "        df = pd.concat([df, pd.DataFrame([{\"Reps\": r, \"Med\": med, \"CI Lo\": ci_lo, \"CI Hi\": ci_hi}])])\n",
    "\n",
    "    \n",
    "    # Vis results for 10\n",
    "    ax.errorbar(n_idx * 4 + 1, df[\"Med\"].tolist()[0], \n",
    "                yerr=[np.array([df[\"Med\"].tolist()[0]-df[\"CI Lo\"].tolist()[0]]), \n",
    "                      np.array([df[\"CI Hi\"].tolist()[0]-df[\"Med\"].tolist()[0]])], \n",
    "                     c=\"blue\", fmt='', lw = 10, alpha=0.15)\n",
    "    \n",
    "    if df[\"CI Lo\"].tolist()[-1] <= df[\"Med\"].tolist()[0] <= df[\"CI Hi\"].tolist()[-1]:\n",
    "        ax.plot(n_idx * 4 + 1-0.075, df[\"Med\"].tolist()[0], \"green\", alpha=1.0, marker=ur'$\\u2713$', markersize=10)\n",
    "    else:\n",
    "        ax.plot(n_idx * 4 + 1-0.075, df[\"Med\"].tolist()[0], \"red\", alpha=1.0, marker=\"$\\\\times$\", markersize=10)\n",
    "    \n",
    "    plt.annotate(\"10\", xy=(n_idx * 4 + 1 - 0.45, df[\"CI Hi\"].tolist()[0] + 20), fontsize=8)\n",
    "    \n",
    "    # Vis results for 50\n",
    "    ax.errorbar(n_idx * 4 + 2.0, df[\"Med\"].tolist()[-1], yerr=[np.array([df[\"Med\"].tolist()[-1]-df[\"CI Lo\"].tolist()[-1]]), \n",
    "                                                 np.array([df[\"CI Hi\"].tolist()[-1]-df[\"Med\"].tolist()[-1]])], \\\n",
    "                     c=\"blue\", fmt='', lw = 10, alpha=0.45)\n",
    "    ax.scatter(n_idx * 4 + 2.0, df[\"Med\"].tolist()[-1], c='black', marker=\"d\", lw =2.0)\n",
    "    \n",
    "    plt.annotate(\"50\", xy=(n_idx * 4 + 2.0 - 0.4, df[\"CI Hi\"].tolist()[-1] + 30), fontsize=8)\n",
    "\n",
    "    # Vis results for 3\n",
    "    if df[\"CI Lo\"].tolist()[-1] <= np.median(grp[\"Runtime\"].tolist()[:3]) <= df[\"CI Hi\"].tolist()[-1]:\n",
    "        ax.plot(n_idx * 4 -0.075, np.median(grp[\"Runtime\"].tolist()[:3]), \"green\", alpha=1.0, marker=ur'$\\u2713$', markersize=10)\n",
    "    else:\n",
    "        ax.plot(n_idx * 4 -0.075, np.median(grp[\"Runtime\"].tolist()[:3]), \"red\", alpha=1.0, marker=\"$\\\\times$\", markersize=10)\n",
    "    plt.annotate(\"3\", xy=(n_idx * 4 - 0.2, np.median(grp[\"Runtime\"].tolist()[:3]) + 30), fontsize=8)\n",
    "\n",
    "# Additional styling\n",
    "ax.set_xticks(np.array(range(n_idx + 1)) * 4 + 1.0)\n",
    "ax.set_xticklabels(n_list)\n",
    "ax.set_ylim([ax.get_ylim()[0], ax.get_ylim()[1] * 1.1])\n",
    "ax.set_ylabel(\"Time [s]\")\n",
    "ax.set_xlabel(\"Cloud\");"
   ]
  },
  {
   "cell_type": "code",
   "execution_count": null,
   "metadata": {},
   "outputs": [],
   "source": []
  }
 ],
 "metadata": {
  "kernelspec": {
   "display_name": "conda-python-2.7",
   "language": "python",
   "name": "conda-python-2.7"
  },
  "language_info": {
   "codemirror_mode": {
    "name": "ipython",
    "version": 2
   },
   "file_extension": ".py",
   "mimetype": "text/x-python",
   "name": "python",
   "nbconvert_exporter": "python",
   "pygments_lexer": "ipython2",
   "version": "2.7.15"
  },
  "varInspector": {
   "cols": {
    "lenName": 16,
    "lenType": 16,
    "lenVar": 40
   },
   "kernels_config": {
    "python": {
     "delete_cmd_postfix": "",
     "delete_cmd_prefix": "del ",
     "library": "var_list.py",
     "varRefreshCmd": "print(var_dic_list())"
    },
    "r": {
     "delete_cmd_postfix": ") ",
     "delete_cmd_prefix": "rm(",
     "library": "var_list.r",
     "varRefreshCmd": "cat(var_dic_list()) "
    }
   },
   "types_to_exclude": [
    "module",
    "function",
    "builtin_function_or_method",
    "instance",
    "_Feature"
   ],
   "window_display": false
  }
 },
 "nbformat": 4,
 "nbformat_minor": 2
}
