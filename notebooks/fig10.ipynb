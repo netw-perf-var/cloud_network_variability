{
 "cells": [
  {
   "cell_type": "code",
   "execution_count": 3,
   "metadata": {},
   "outputs": [],
   "source": [
    "from os import listdir, makedirs\n",
    "from os.path import basename, dirname, exists, isfile, join, realpath, splitext\n",
    "import numpy as np\n",
    "import matplotlib.pyplot as plt\n",
    "import sys\n",
    "plt.rcParams.update({'font.size': 12})"
   ]
  },
  {
   "cell_type": "code",
   "execution_count": 4,
   "metadata": {},
   "outputs": [
    {
     "data": {
      "image/png": "[encoded data removed]",
      "text/plain": [
       "<Figure size 216x144 with 1 Axes>"
      ]
     },
     "metadata": {
      "needs_background": "light"
     },
     "output_type": "display_data"
    }
   ],
   "source": [
    "\n",
    "\n",
    "filedir = realpath(\"./\")\n",
    "inputdir = realpath(join(filedir, '../data/fig10/'))\n",
    "\n",
    "def load_data(file_name):\n",
    "\tcrnt_file = open(file_name)\n",
    "\tlines = crnt_file.readlines()\n",
    "\tcrnt_file.close()\n",
    "\tbw_data = [float(x.strip()) for x in lines]\n",
    "\treturn bw_data\n",
    "\n",
    "def plot(fig, ax, aws_data, das_data, stride, legend):\n",
    "\tarr_len = len(aws_data)\n",
    "\ti = 0\n",
    "\tx_coord = 0\n",
    "\twhile i < arr_len:\n",
    "\t\tif (legend == True):\n",
    "\t\t\tax.plot(np.arange(x_coord, x_coord + stride), aws_data[i : i + stride], color=\"blue\", label=\"AWS\")\n",
    "\t\t\tax.plot(np.arange(x_coord, x_coord + stride), das_data[i : i + stride], color=\"red\", label=\"Emulation\")\n",
    "\t\t\tlegend = False\n",
    "\t\telse:\n",
    "\t\t\tax.plot(np.arange(x_coord, x_coord + stride), aws_data[i : i + stride], color=\"blue\")\n",
    "\t\t\tax.plot(np.arange(x_coord, x_coord + stride), das_data[i : i + stride], color=\"red\")\n",
    "\n",
    "\t\ti += stride\n",
    "\t\tx_coord += 30\n",
    "\n",
    "def sort_lim(elem):\n",
    "\treturn int(elem.split('m')[0])\n",
    "\n",
    "def plot_emul(filename, data, lim):\n",
    "\tfig, ax = plt.subplots(nrows = 1, ncols = 1, figsize = (3, 2))\n",
    "\tax.plot(range(len(data)), data, color='blue', label='Achieved bandwidth', linewidth=1.5)\n",
    "\tax.plot(range(len(lim)), lim, color='red', label='Target bandwidth', alpha=0.8, linewidth=1.5)\n",
    "\tax.set_xlabel(\"Time [s]\")\n",
    "\tax.set_ylabel(\"Bandwidth [Mbps]\")\n",
    "\n",
    "\tfor tick in ax.yaxis.get_major_ticks():\n",
    "                tick.label.set_fontsize(10)\n",
    "\n",
    "\tax.set_ylim(0, 1.05*max(max(data), max(lim)))\n",
    "\tax.ticklabel_format(useOffset=False, style='plain')\n",
    "\tax.spines['top'].set_visible(False)\n",
    "\tax.xaxis.set_ticks_position('bottom')\n",
    "\tax.legend(loc=10, prop={'size': 8})\n",
    "\tplt.tight_layout()\n",
    "\tplt.show()\n",
    "\n",
    "def plot_emulations(fdr, rate):\n",
    "\trawdata = open(join(fdr, rate + '.csv'), 'r')\n",
    "\tdata = [float(x.split(\",\")[0]) * 1000 / 5 for x in rawdata]\n",
    "\tdata = np.repeat(data, 5).tolist()\n",
    "\trawdata.seek(0)\n",
    "\tlims = [float(x.split(\",\")[2]) for x in rawdata]\n",
    "\tlims = np.repeat(lims, 5).tolist()\n",
    "\tplot_emul(rate, data, lims)\n",
    "\trawdata.close()\n",
    "\n",
    "rates = [splitext(f)[0] for f in listdir(inputdir) if isfile(join(inputdir, f)) and f.endswith('.csv')]\n",
    "\n",
    "for rate in rates:\n",
    "\tplot_emulations(inputdir, rate)\n"
   ]
  },
  {
   "cell_type": "code",
   "execution_count": null,
   "metadata": {},
   "outputs": [],
   "source": []
  },
  {
   "cell_type": "code",
   "execution_count": null,
   "metadata": {},
   "outputs": [],
   "source": []
  },
  {
   "cell_type": "code",
   "execution_count": null,
   "metadata": {},
   "outputs": [],
   "source": []
  }
 ],
 "metadata": {
  "kernelspec": {
   "display_name": "Python 2",
   "language": "python",
   "name": "python2"
  },
  "language_info": {
   "codemirror_mode": {
    "name": "ipython",
    "version": 2
   },
   "file_extension": ".py",
   "mimetype": "text/x-python",
   "name": "python",
   "nbconvert_exporter": "python",
   "pygments_lexer": "ipython2",
   "version": "2.7.16"
  }
 },
 "nbformat": 4,
 "nbformat_minor": 2
}
