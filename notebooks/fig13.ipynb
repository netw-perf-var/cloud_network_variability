{
 "cells": [
  {
   "cell_type": "code",
   "execution_count": 4,
   "metadata": {},
   "outputs": [],
   "source": [
    "from os import listdir, makedirs\n",
    "from os.path import basename, dirname, exists, isfile, join, realpath\n",
    "import numpy as np\n",
    "import matplotlib.pyplot as plt\n",
    "import re\n",
    "import sys"
   ]
  },
  {
   "cell_type": "code",
   "execution_count": 5,
   "metadata": {},
   "outputs": [
    {
     "name": "stdout",
     "output_type": "stream",
     "text": [
      "{'sort': 103.174, 'terasort': 1251.7995, 'wordcount': 277.573, 'kmeans': 139.655, 'pagerank': 831.2925, 'bayes': 61.650999999999996}\n"
     ]
    },
    {
     "data": {
      "image/png": "[encoded data removed]",
      "text/plain": [
       "<Figure size 360x144 with 1 Axes>"
      ]
     },
     "metadata": {
      "needs_background": "light"
     },
     "output_type": "display_data"
    }
   ],
   "source": [
    "\n",
    "runtimes = dict()\n",
    "nolimit = dict()\n",
    "nolimit_medians = dict()\n",
    "apps = [\"bayes\", \"kmeans\", \"pagerank\", \"sort\", \"terasort\", \"wordcount\"]\n",
    "short_apps = {\"bayes\": \"BS\", \"kmeans\": \"KM\", \"pagerank\": \"PR\", \"sort\": \"S\", \"terasort\": \"TS\", \"wordcount\": \"WC\"}\n",
    "\n",
    "filedir = realpath(\"./\")\n",
    "inputdir = realpath(join(filedir, '../data/fig13/'))\n",
    "\n",
    "def load_data():\n",
    "\tfor app in apps:\n",
    "\t\tcrnt_file = open(join(inputdir, app + \".report\"))\n",
    "\t\tlines = crnt_file.readlines()\n",
    "\t\tvalues = [float(re.sub(\" +\", \" \", line.strip()).split(\" \")[4]) for line in lines]\n",
    "\t\truntimes[app] = values[10:]\n",
    "\t\tnolimit[app] = values[0:10]\n",
    "\t\tcrnt_file.close()\n",
    "\t\t\n",
    "def get_95th_perc(arr):\n",
    "\tperc = np.percentile(arr, 99)\n",
    "\tret_arr = [x for x in arr if x < perc]\n",
    "\treturn ret_arr\n",
    "\t\t\t\n",
    "def get_statistics(values, message):\n",
    "\tprint(\"==============    \" + message + \"   ============\")\n",
    "\tresult = dict()\n",
    "\tresult[\"avg\"] = np.mean(values)\n",
    "\tresult[\"std\"] = np.std(values)\n",
    "\tresult[\"npoints\"] = len(values)\n",
    "\tresult[\"99th\"] = np.percentile(values, 99)\n",
    "\tresult[\"75th\"] = np.percentile(values, 75)\n",
    "\tresult[\"50th\"] = np.percentile(values, 50)\n",
    "\tresult[\"25th\"] = np.percentile(values, 25)\n",
    "\tresult[\"1st\"] = np.percentile(values, 1)\n",
    "\tresult[\"CoV\"] = result[\"std\"] / result[\"avg\"]\n",
    "\tresult[\"min\"] = np.min(values)\n",
    "\tresult[\"max\"] = np.max(values)\n",
    "\tprint(result)\n",
    "\tprint(\"================================\")\n",
    "\treturn result\n",
    "\n",
    "\n",
    "load_data()\n",
    "\n",
    "for key in nolimit:\n",
    "\tnolimit_medians[key] = np.median(nolimit[key])\n",
    "\t\n",
    "print(nolimit_medians)\n",
    "\n",
    "runtime_values = []\n",
    "\n",
    "for key in sorted(runtimes.keys()):\n",
    "\t#print(runtimes[key])\n",
    "\truntime_values.append(get_95th_perc(runtimes[key] / nolimit_medians[key]))\n",
    "\n",
    "fig, ax = plt.subplots(nrows = 1, ncols = 1, figsize = (5, 2))\n",
    "vp = ax.violinplot(runtime_values, np.arange(0, len(runtimes.keys())), showmedians=True, widths=0.5)\n",
    "\n",
    "partnames = [\"cbars\", \"cmins\", \"cmaxes\", \"cmedians\"]\n",
    "\n",
    "for partname in partnames:\n",
    "\tpart = vp[partname]\n",
    "\tpart.set_edgecolor(\"black\")\n",
    "\tpart.set_linewidth(0.8)\n",
    "\n",
    "for pc in vp['bodies']:\n",
    "\tpc.set_facecolor(\"blue\")\n",
    "\tpc.set_alpha(0.3)\n",
    "\t\n",
    "plt.xticks(np.arange(0, len(nolimit_medians.keys())), [short_apps[str(x)] for x in sorted(nolimit_medians.keys())])\t\n",
    "ax.set_ylim(0, 5.2)\n",
    "ax.set_xlabel(\"Application\")\n",
    "ax.set_ylabel(\"Slowdown\")\n",
    "ax.set_yticks(np.arange(0, 6, 1))\n",
    "plt.tight_layout()\n",
    "\n",
    "plt.show()\n",
    "\n",
    "\n"
   ]
  },
  {
   "cell_type": "code",
   "execution_count": null,
   "metadata": {},
   "outputs": [],
   "source": []
  }
 ],
 "metadata": {
  "kernelspec": {
   "display_name": "Python 2",
   "language": "python",
   "name": "python2"
  },
  "language_info": {
   "codemirror_mode": {
    "name": "ipython",
    "version": 2
   },
   "file_extension": ".py",
   "mimetype": "text/x-python",
   "name": "python",
   "nbconvert_exporter": "python",
   "pygments_lexer": "ipython2",
   "version": "2.7.16"
  }
 },
 "nbformat": 4,
 "nbformat_minor": 2
}
