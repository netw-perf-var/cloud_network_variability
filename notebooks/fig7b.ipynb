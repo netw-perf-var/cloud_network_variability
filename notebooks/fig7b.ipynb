{
 "cells": [
  {
   "cell_type": "code",
   "execution_count": 1,
   "metadata": {},
   "outputs": [],
   "source": [
    "import json\n",
    "from os import listdir, makedirs\n",
    "from os.path import basename, dirname, exists, isfile, join, realpath\n",
    "import numpy as np\n",
    "import matplotlib.pyplot as plt\n",
    "import sys"
   ]
  },
  {
   "cell_type": "code",
   "execution_count": 2,
   "metadata": {},
   "outputs": [
    {
     "name": "stdout",
     "output_type": "stream",
     "text": [
      "============================\n",
      "{'std': 28.8340459629794, '75th': 138.59575, '25th': 101.58075, '50th': 118.676, 'max': 263.294, '99th': 213.28067000000001, 'CoV': 0.23742781809974187, 'min': 48.333, '1st': 67.50126, 'npoints': 22320, 'avg': 121.44341886200718}\n",
      "================================\n",
      "============================\n",
      "{'std': 37.197506188565114, '75th': 15704.9, '25th': 15659.6, '50th': 15684.0, 'max': 15767.3, '99th': 15744.781, 'CoV': 0.0023722923221740477, 'min': 15300.6, '1st': 15556.219000000001, 'npoints': 22320, 'avg': 15679.984224910393}\n",
      "================================\n",
      "============================\n",
      "{'std': 23.229569524103496, '75th': 173.218, '25th': 138.582, '50th': 157.313, 'max': 237.733, '99th': 202.31564, 'CoV': 0.1493826294567859, 'min': 78.032, '1st': 104.02796000000001, 'npoints': 7745, 'avg': 155.50382001291158}\n",
      "================================\n",
      "============================\n",
      "{'std': 58.64970388791944, '75th': 15457.8, '25th': 15387.3, '50th': 15424.1, 'max': 15569.1, '99th': 15529.856, 'CoV': 0.00380375418547389, 'min': 14841.6, '1st': 15237.228, 'npoints': 7745, 'avg': 15418.89959974177}\n",
      "================================\n",
      "============================\n",
      "{'std': 17.66802830604179, '75th': 78.082, '25th': 49.911, '50th': 65.073, 'max': 116.201, '99th': 100.28719999999998, 'CoV': 0.27521468351521194, 'min': 8.416, '1st': 26.041200000000003, 'npoints': 7565, 'avg': 64.19725895571712}\n",
      "================================\n",
      "============================\n",
      "{'std': 559.3359166501327, '75th': 15251.0, '25th': 15117.2, '50th': 15182.6, 'max': 15487.8, '99th': 15394.511999999999, 'CoV': 0.03713337319834872, 'min': 7053.8, '1st': 12529.044, 'npoints': 7565, 'avg': 15062.890022471911}\n",
      "================================\n"
     ]
    },
    {
     "data": {
      "image/png": "[encoded data removed]",
      "text/plain": [
       "<Figure size 216x144 with 1 Axes>"
      ]
     },
     "metadata": {
      "needs_background": "light"
     },
     "output_type": "display_data"
    }
   ],
   "source": [
    "\n",
    "\n",
    "bw_values = dict()\n",
    "retransmits = dict()\n",
    "\n",
    "filedir = realpath(\"./\")\n",
    "inputdir = realpath(join(filedir, '../data/fig5/'))\n",
    "\n",
    "def get_statistics(values, message):\n",
    "\tprint(\"============================\")\n",
    "\tresult = dict()\n",
    "\tresult[\"avg\"] = np.mean(values)\n",
    "\tresult[\"std\"] = np.std(values)\n",
    "\tresult[\"npoints\"] = len(values)\n",
    "\tresult[\"99th\"] = np.percentile(values, 99)\n",
    "\tresult[\"75th\"] = np.percentile(values, 75)\n",
    "\tresult[\"50th\"] = np.percentile(values, 50)\n",
    "\tresult[\"25th\"] = np.percentile(values, 25)\n",
    "\tresult[\"1st\"] = np.percentile(values, 1)\n",
    "\tresult[\"CoV\"] = result[\"std\"] / result[\"avg\"]\n",
    "\tresult[\"min\"] = np.min(values)\n",
    "\tresult[\"max\"] = np.max(values)\n",
    "\tprint(result)\n",
    "\tprint(\"================================\")\n",
    "\treturn result\n",
    "\n",
    "def get_bw_per_machine(machine_file, bw_values, retr):\n",
    "\tcrnt_file = open(machine_file)\n",
    "\tdata = json.load(crnt_file)\n",
    "\n",
    "\tno_intervals = len(data[\"intervals\"])\n",
    "\tbandwidth = 0\n",
    "\tfor i in range(0, no_intervals):\n",
    "\t\tno_bytes = data[\"intervals\"][i][\"sum\"][\"bits_per_second\"]\n",
    "\t\t#bandwidth = (no_bytes * 8) / (10 * 1000 * 1000)\n",
    "\t\tbandwidth = no_bytes / (1000 * 1000)\n",
    "\t\tbw_values.append(bandwidth)\n",
    "\t\tretr.append(data[\"intervals\"][i][\"sum\"][\"retransmits\"]/1000.0)\n",
    "\n",
    "fig, ax = plt.subplots(nrows = 1, ncols = 1, figsize = (3, 2))\n",
    "hindex = 0\n",
    "\n",
    "dirnames = [join(inputdir,\"full-speed\"), join(inputdir, \"10-30\"), join(inputdir, \"5-30\")]\n",
    "stats = dict()\n",
    "\n",
    "for dir in dirnames:\n",
    "\tdirname = join(inputdir, dir)\n",
    "\tbw_values[dir] = []\n",
    "\tretransmits[dir] = []\n",
    "\t\n",
    "\tmachine_files = [join(dirname, f) for f in listdir(dirname) if isfile(join(dirname, f)) and f.endswith(\".json\")]\n",
    "\t\n",
    "\tfor machine_file in machine_files:\n",
    "\t\tget_bw_per_machine(machine_file, bw_values[dir], retransmits[dir])\n",
    "\t\n",
    "\tstats[dir] = get_statistics(retransmits[dir], \"retransmits -> \" + dir)\n",
    "\tget_statistics(bw_values[dir], \"bandwidth -> \" + dir)\n",
    "\t\n",
    "\thindex += 1\n",
    "\n",
    "ax.violinplot([retransmits[dirnames[0]], retransmits[dirnames[1]], retransmits[dirnames[2]]], positions=[1, 2, 3], showmedians=True, showextrema=True, vert=False)\n",
    "#ax.set_ylabel(\"\")\n",
    "ax.set_ylim(0, 4)\n",
    "ax.set_xlim(0, 310)\n",
    "ax.set_xticks(np.arange(0, 310, 100))\n",
    "plt.yticks([1, 2, 3], [\"full-speed\", \"10-30\", \"5-30\"])\n",
    "ax.set_xlabel(\"Thousand\\nRetransmissions\")\n",
    "plt.tight_layout()\n",
    "\n",
    "plt.show()\n",
    "\n"
   ]
  },
  {
   "cell_type": "code",
   "execution_count": null,
   "metadata": {},
   "outputs": [],
   "source": []
  }
 ],
 "metadata": {
  "kernelspec": {
   "display_name": "Python 2",
   "language": "python",
   "name": "python2"
  },
  "language_info": {
   "codemirror_mode": {
    "name": "ipython",
    "version": 2
   },
   "file_extension": ".py",
   "mimetype": "text/x-python",
   "name": "python",
   "nbconvert_exporter": "python",
   "pygments_lexer": "ipython2",
   "version": "2.7.16"
  }
 },
 "nbformat": 4,
 "nbformat_minor": 2
}
